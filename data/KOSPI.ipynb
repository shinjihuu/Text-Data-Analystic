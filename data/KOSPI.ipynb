{
 "cells": [
  {
   "cell_type": "code",
   "execution_count": 10,
   "metadata": {},
   "outputs": [],
   "source": [
    "# Yahoo Finance에서 주가 데이터를 가져오는 파이썬 라이브러리 설치\n",
    "!pip install yfinance"
   ]
  },
  {
   "cell_type": "code",
   "execution_count": 1,
   "metadata": {},
   "outputs": [],
   "source": [
    "import yfinance as yf # Yahoo Finance 주가 데이터\n",
    "import pandas as pd\n",
    "import datetime\n",
    "import matplotlib.pyplot as plt"
   ]
  },
  {
   "cell_type": "code",
   "execution_count": 8,
   "metadata": {},
   "outputs": [
    {
     "name": "stderr",
     "output_type": "stream",
     "text": [
      "[*********************100%%**********************]  1 of 1 completed"
     ]
    },
    {
     "name": "stderr",
     "output_type": "stream",
     "text": [
      "\n"
     ]
    }
   ],
   "source": [
    "naver_df = yf.download('035420.KS','2023-06-01','2024-05-28') # 네이버\n",
    "naver_df = naver_df.dropna().reset_index() # 결측값 제거 후 인덱스 재설정\n",
    "naver_df.to_csv('naver_stock_data.csv', index=False)"
   ]
  },
  {
   "cell_type": "code",
   "execution_count": 5,
   "metadata": {},
   "outputs": [
    {
     "name": "stderr",
     "output_type": "stream",
     "text": [
      "[*********************100%%**********************]  1 of 1 completed\n"
     ]
    },
    {
     "data": {
      "text/html": [
       "<div>\n",
       "<style scoped>\n",
       "    .dataframe tbody tr th:only-of-type {\n",
       "        vertical-align: middle;\n",
       "    }\n",
       "\n",
       "    .dataframe tbody tr th {\n",
       "        vertical-align: top;\n",
       "    }\n",
       "\n",
       "    .dataframe thead th {\n",
       "        text-align: right;\n",
       "    }\n",
       "</style>\n",
       "<table border=\"1\" class=\"dataframe\">\n",
       "  <thead>\n",
       "    <tr style=\"text-align: right;\">\n",
       "      <th></th>\n",
       "      <th>Date</th>\n",
       "      <th>Open</th>\n",
       "      <th>High</th>\n",
       "      <th>Low</th>\n",
       "      <th>Close</th>\n",
       "      <th>Adj Close</th>\n",
       "      <th>Volume</th>\n",
       "      <th>UpDown</th>\n",
       "    </tr>\n",
       "  </thead>\n",
       "  <tbody>\n",
       "    <tr>\n",
       "      <th>0</th>\n",
       "      <td>2023-06-01</td>\n",
       "      <td>274000.0</td>\n",
       "      <td>283000.0</td>\n",
       "      <td>272500.0</td>\n",
       "      <td>277500.0</td>\n",
       "      <td>277500.0</td>\n",
       "      <td>273680</td>\n",
       "      <td>0</td>\n",
       "    </tr>\n",
       "    <tr>\n",
       "      <th>1</th>\n",
       "      <td>2023-06-02</td>\n",
       "      <td>276000.0</td>\n",
       "      <td>278000.0</td>\n",
       "      <td>263500.0</td>\n",
       "      <td>270000.0</td>\n",
       "      <td>270000.0</td>\n",
       "      <td>448545</td>\n",
       "      <td>0</td>\n",
       "    </tr>\n",
       "    <tr>\n",
       "      <th>2</th>\n",
       "      <td>2023-06-05</td>\n",
       "      <td>270000.0</td>\n",
       "      <td>271000.0</td>\n",
       "      <td>264000.0</td>\n",
       "      <td>265000.0</td>\n",
       "      <td>265000.0</td>\n",
       "      <td>165535</td>\n",
       "      <td>0</td>\n",
       "    </tr>\n",
       "    <tr>\n",
       "      <th>3</th>\n",
       "      <td>2023-06-07</td>\n",
       "      <td>265000.0</td>\n",
       "      <td>272000.0</td>\n",
       "      <td>265000.0</td>\n",
       "      <td>269000.0</td>\n",
       "      <td>269000.0</td>\n",
       "      <td>174858</td>\n",
       "      <td>1</td>\n",
       "    </tr>\n",
       "    <tr>\n",
       "      <th>4</th>\n",
       "      <td>2023-06-08</td>\n",
       "      <td>267500.0</td>\n",
       "      <td>271000.0</td>\n",
       "      <td>265000.0</td>\n",
       "      <td>268000.0</td>\n",
       "      <td>268000.0</td>\n",
       "      <td>151260</td>\n",
       "      <td>0</td>\n",
       "    </tr>\n",
       "    <tr>\n",
       "      <th>...</th>\n",
       "      <td>...</td>\n",
       "      <td>...</td>\n",
       "      <td>...</td>\n",
       "      <td>...</td>\n",
       "      <td>...</td>\n",
       "      <td>...</td>\n",
       "      <td>...</td>\n",
       "      <td>...</td>\n",
       "    </tr>\n",
       "    <tr>\n",
       "      <th>236</th>\n",
       "      <td>2024-05-21</td>\n",
       "      <td>190300.0</td>\n",
       "      <td>191200.0</td>\n",
       "      <td>187900.0</td>\n",
       "      <td>188000.0</td>\n",
       "      <td>188000.0</td>\n",
       "      <td>264225</td>\n",
       "      <td>0</td>\n",
       "    </tr>\n",
       "    <tr>\n",
       "      <th>237</th>\n",
       "      <td>2024-05-22</td>\n",
       "      <td>187500.0</td>\n",
       "      <td>189500.0</td>\n",
       "      <td>186600.0</td>\n",
       "      <td>186800.0</td>\n",
       "      <td>186800.0</td>\n",
       "      <td>210132</td>\n",
       "      <td>0</td>\n",
       "    </tr>\n",
       "    <tr>\n",
       "      <th>238</th>\n",
       "      <td>2024-05-23</td>\n",
       "      <td>186500.0</td>\n",
       "      <td>201500.0</td>\n",
       "      <td>185700.0</td>\n",
       "      <td>198100.0</td>\n",
       "      <td>198100.0</td>\n",
       "      <td>662370</td>\n",
       "      <td>1</td>\n",
       "    </tr>\n",
       "    <tr>\n",
       "      <th>239</th>\n",
       "      <td>2024-05-24</td>\n",
       "      <td>198100.0</td>\n",
       "      <td>203000.0</td>\n",
       "      <td>196900.0</td>\n",
       "      <td>200500.0</td>\n",
       "      <td>200500.0</td>\n",
       "      <td>361727</td>\n",
       "      <td>1</td>\n",
       "    </tr>\n",
       "    <tr>\n",
       "      <th>240</th>\n",
       "      <td>2024-05-27</td>\n",
       "      <td>204500.0</td>\n",
       "      <td>208500.0</td>\n",
       "      <td>202000.0</td>\n",
       "      <td>203500.0</td>\n",
       "      <td>203500.0</td>\n",
       "      <td>422906</td>\n",
       "      <td>1</td>\n",
       "    </tr>\n",
       "  </tbody>\n",
       "</table>\n",
       "<p>241 rows × 8 columns</p>\n",
       "</div>"
      ],
      "text/plain": [
       "          Date      Open      High       Low     Close  Adj Close  Volume  \\\n",
       "0   2023-06-01  274000.0  283000.0  272500.0  277500.0   277500.0  273680   \n",
       "1   2023-06-02  276000.0  278000.0  263500.0  270000.0   270000.0  448545   \n",
       "2   2023-06-05  270000.0  271000.0  264000.0  265000.0   265000.0  165535   \n",
       "3   2023-06-07  265000.0  272000.0  265000.0  269000.0   269000.0  174858   \n",
       "4   2023-06-08  267500.0  271000.0  265000.0  268000.0   268000.0  151260   \n",
       "..         ...       ...       ...       ...       ...        ...     ...   \n",
       "236 2024-05-21  190300.0  191200.0  187900.0  188000.0   188000.0  264225   \n",
       "237 2024-05-22  187500.0  189500.0  186600.0  186800.0   186800.0  210132   \n",
       "238 2024-05-23  186500.0  201500.0  185700.0  198100.0   198100.0  662370   \n",
       "239 2024-05-24  198100.0  203000.0  196900.0  200500.0   200500.0  361727   \n",
       "240 2024-05-27  204500.0  208500.0  202000.0  203500.0   203500.0  422906   \n",
       "\n",
       "     UpDown  \n",
       "0         0  \n",
       "1         0  \n",
       "2         0  \n",
       "3         1  \n",
       "4         0  \n",
       "..      ...  \n",
       "236       0  \n",
       "237       0  \n",
       "238       1  \n",
       "239       1  \n",
       "240       1  \n",
       "\n",
       "[241 rows x 8 columns]"
      ]
     },
     "execution_count": 5,
     "metadata": {},
     "output_type": "execute_result"
    }
   ],
   "source": [
    "hybe_df = yf.download('352820.KS','2023-06-01','2024-05-28') # 하이브\n",
    "hybe_df = hybe_df.dropna().reset_index() # 결측값 제거 후 인덱스 재설정\n",
    "hybe_df.to_csv('hybe_stock_data.csv', index=False)"
   ]
  },
  {
   "cell_type": "code",
   "execution_count": 3,
   "metadata": {},
   "outputs": [],
   "source": [
    "# # updown 컬럼 생성\n",
    "# naver_df['UpDown'] = (naver_df['Close'] > naver_df['Close'].shift(1)).astype(int)\n",
    "# naver_df"
   ]
  },
  {
   "cell_type": "code",
   "execution_count": null,
   "metadata": {},
   "outputs": [],
   "source": [
    "# # updown 컬럼 생성\n",
    "# hybe_df['UpDown'] = (hybe_df['Close'] > hybe_df['Close'].shift(1)).astype(int)\n",
    "# hybe_df"
   ]
  },
  {
   "cell_type": "code",
   "execution_count": null,
   "metadata": {},
   "outputs": [],
   "source": [
    "# hybe_df['Date', 'Close', 'UpDown']"
   ]
  }
 ],
 "metadata": {
  "kernelspec": {
   "display_name": "base",
   "language": "python",
   "name": "python3"
  },
  "language_info": {
   "codemirror_mode": {
    "name": "ipython",
    "version": 3
   },
   "file_extension": ".py",
   "mimetype": "text/x-python",
   "name": "python",
   "nbconvert_exporter": "python",
   "pygments_lexer": "ipython3",
   "version": "3.11.7"
  }
 },
 "nbformat": 4,
 "nbformat_minor": 2
}

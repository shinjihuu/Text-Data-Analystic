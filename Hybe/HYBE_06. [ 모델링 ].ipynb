{
 "cells": [
  {
   "cell_type": "code",
   "execution_count": 1,
   "metadata": {},
   "outputs": [],
   "source": [
    "from sklearn.feature_extraction.text import TfidfVectorizer\n",
    "from sklearn.linear_model import LogisticRegression\n",
    "from sklearn.model_selection import train_test_split\n",
    "from sklearn.metrics import accuracy_score, classification_report\n",
    "import pandas as pd\n",
    "import numpy as np\n",
    "import matplotlib.pyplot as plt\n",
    "import tensorflow as tf\n",
    "from tensorflow.keras.models import Sequential\n",
    "from tensorflow.keras.layers import Embedding, LSTM, Dense\n",
    "from tensorflow.keras.callbacks import EarlyStopping, ModelCheckpoint\n",
    "from tensorflow.keras.preprocessing.sequence import pad_sequences\n",
    "from tensorflow.keras.preprocessing.text import Tokenizer\n",
    "from sklearn.model_selection import train_test_split\n",
    "from tensorflow.keras.models import load_model\n",
    "from tensorflow.keras.layers import Bidirectional"
   ]
  },
  {
   "cell_type": "code",
   "execution_count": 2,
   "metadata": {},
   "outputs": [],
   "source": [
    "ppc_df = pd.read_csv('hybe_04.SentimentWord_01.csv') \n",
    "stock_df = pd.read_csv('../data/stock/hybe_stock_data.csv') # 주가 df"
   ]
  },
  {
   "cell_type": "code",
   "execution_count": 3,
   "metadata": {},
   "outputs": [],
   "source": [
    "# Label 컬럼 생성: 다음 날 주가가 오늘보다 높으면 1, 그렇지 않으면 0\n",
    "stock_df['Label'] = (stock_df['Close'].shift(-1) > stock_df['Close']).astype(int)\n",
    "stock_df = stock_df[['Date', 'Label']]\n",
    "\n",
    "# 필요한 컬럼만 빼서 다시 정의\n",
    "ppc_df = ppc_df[['Date', 'ppc_Title', 'Tokens', 'Score']]\n",
    "\n",
    "# 'Date' 컬럼을 기준으로 두 DataFrame을 합치기\n",
    "df = pd.merge(ppc_df, stock_df, on='Date')"
   ]
  },
  {
   "cell_type": "markdown",
   "metadata": {},
   "source": [
    "----"
   ]
  },
  {
   "cell_type": "code",
   "execution_count": 4,
   "metadata": {},
   "outputs": [],
   "source": [
    "# 데이터를 훈련 세트와 테스트 세트로 분할 8:2\n",
    "X_train, X_test, y_train, y_test = train_test_split(df['Tokens'], df['Label'], test_size=0.2, random_state=42)"
   ]
  },
  {
   "cell_type": "code",
   "execution_count": 5,
   "metadata": {},
   "outputs": [
    {
     "name": "stderr",
     "output_type": "stream",
     "text": [
      "c:\\Users\\sinji\\anaconda3\\Lib\\site-packages\\sklearn\\feature_extraction\\text.py:528: UserWarning: The parameter 'token_pattern' will not be used since 'tokenizer' is not None'\n",
      "  warnings.warn(\n"
     ]
    },
    {
     "name": "stdout",
     "output_type": "stream",
     "text": [
      "정확도: 0.563\n",
      "분류 보고서:\n",
      "               precision    recall  f1-score   support\n",
      "\n",
      "           0       0.58      0.82      0.68      1052\n",
      "           1       0.48      0.22      0.30       786\n",
      "\n",
      "    accuracy                           0.56      1838\n",
      "   macro avg       0.53      0.52      0.49      1838\n",
      "weighted avg       0.54      0.56      0.52      1838\n",
      "\n"
     ]
    }
   ],
   "source": [
    "# identity_tokenizer 함수 정의: 이미 토큰화된 데이터를 입력으로 받아 그대로 반환하는 함수\n",
    "# 이 함수는 TfidfVectorizer의 tokenizer 파라미터에 사용될 것\n",
    "def identity_tokenizer(text):\n",
    "    return text\n",
    "\n",
    "# TfidfVectorizer의 인스턴스를 생성\n",
    "# tokenizer 파라미터에 identity_tokenizer를 지정하여 이미 토큰화된 데이터를 그대로 사용\n",
    "# lowercase=False 옵션은 데이터가 이미 토큰화된 상태이므로 대소문자 변환을 비활성화\n",
    "tfidf = TfidfVectorizer(tokenizer=identity_tokenizer, lowercase=False)\n",
    "\n",
    "# 학습 데이터를 TF-IDF 벡터로 변환 fit_transform 메서드는 단어 사전을 학습하고\n",
    "# 데이터를 해당 TF-IDF 벡터로 변환\n",
    "X_train_tfidf = tfidf.fit_transform(X_train)\n",
    "\n",
    "# 테스트 데이터를 동일한 단어 사전을 사용하여 TF-IDF 벡터로 변환\n",
    "# transform 메서드는 이미 학습된 단어 사전을 기반으로 데이터를 벡터로 변환\n",
    "X_test_tfidf = tfidf.transform(X_test)\n",
    "\n",
    "# Logistic Regression 모델을 생성하고 학습 데이터에 대해 학습을 수행\n",
    "model = LogisticRegression()\n",
    "model.fit(X_train_tfidf, y_train)\n",
    "\n",
    "# 테스트 데이터에 대해 예측을 수행\n",
    "y_pred = model.predict(X_test_tfidf)\n",
    "\n",
    "# 정확도를 계산 accuracy_score 함수는 실제 레이블과 예측 레이블을 비교하여 정확도를 산출\n",
    "accuracy = accuracy_score(y_test, y_pred)\n",
    "\n",
    "# 정확도를 소수점 셋째 자리까지 출력\n",
    "print(\"정확도: {:.3f}\".format(accuracy))\n",
    "\n",
    "# 분류 보고서를 출력 classification_report는 각 클래스에 대한 정밀도, 재현율, f1-스코어를 제공\n",
    "# 이는 모델의 성능을 다각도로 평가하는 데 유용\n",
    "print(\"분류 보고서:\\n\", classification_report(y_test, y_pred))"
   ]
  },
  {
   "cell_type": "markdown",
   "metadata": {},
   "source": [
    "----"
   ]
  },
  {
   "cell_type": "code",
   "execution_count": 6,
   "metadata": {},
   "outputs": [
    {
     "name": "stdout",
     "output_type": "stream",
     "text": [
      "7703\n"
     ]
    }
   ],
   "source": [
    "# 텍스트를 정수 시퀀스로 변환하기 위한 Tokenizer 초기화\n",
    "tokenizer = Tokenizer()\n",
    "\n",
    "# 학습 데이터로 Tokenizer 학습\n",
    "# 이 과정에서 Tokenizer는 학습 데이터에 등장하는 모든 단어에 고유한 정수를 할당\n",
    "tokenizer.fit_on_texts(X_train)\n",
    "\n",
    "# 학습 데이터의 텍스트를 정수 시퀀스로 변환\n",
    "# 각 단어는 고유한 정수로 매핑되어 정수 시퀀스로 변환됨\n",
    "X_train_encoded = tokenizer.texts_to_sequences(X_train)\n",
    "\n",
    "# 테스트 데이터의 텍스트를 정수 시퀀스로 변환\n",
    "# 학습된 Tokenizer를 사용하여 동일한 매핑을 적용\n",
    "X_test_encoded = tokenizer.texts_to_sequences(X_test)\n",
    "\n",
    "# 단어와 정수 인덱스의 매핑을 담은 딕셔너리 생성\n",
    "word_to_index = tokenizer.word_index\n",
    "\n",
    "# 단어 집합의 크기 계산 (단어의 인덱스는 1부터 시작하므로 +1을 함)\n",
    "vocab_size = len(word_to_index) + 1\n",
    "print(vocab_size)"
   ]
  },
  {
   "cell_type": "code",
   "execution_count": 7,
   "metadata": {},
   "outputs": [
    {
     "name": "stdout",
     "output_type": "stream",
     "text": [
      "최대 길이 : 138\n",
      "평균 길이 : 46.90027210884354\n"
     ]
    },
    {
     "data": {
      "image/png": "[encoded data removed]",
      "text/plain": [
       "<Figure size 640x480 with 1 Axes>"
      ]
     },
     "metadata": {},
     "output_type": "display_data"
    }
   ],
   "source": [
    "print('최대 길이 :',max(len(sent) for sent in X_train))\n",
    "print('평균 길이 :',sum(map(len, X_train))/len(X_train))\n",
    "plt.hist([len(sent) for sent in X_train], bins=50)\n",
    "plt.xlabel('length')\n",
    "plt.ylabel('number')\n",
    "plt.show()"
   ]
  },
  {
   "cell_type": "code",
   "execution_count": 8,
   "metadata": {},
   "outputs": [],
   "source": [
    "max_len = max(len(sent) for sent in X_train) # 최대 길이"
   ]
  },
  {
   "cell_type": "code",
   "execution_count": 9,
   "metadata": {},
   "outputs": [],
   "source": [
    "# 학습 데이터의 시퀀스를 패딩하여 길이를 max_len으로 맞추기\n",
    "# maxlen은 이전에 설정된 최대 길이\n",
    "X_train_encoded = pad_sequences(X_train_encoded, maxlen=max_len)\n",
    "\n",
    "# 테스트 데이터의 시퀀스를 패딩하여 길이를 max_len으로 맞추기\n",
    "# 학습 데이터와 동일한 길이로 패딩하여 일관성 유지\n",
    "X_test_encoded = pad_sequences(X_test_encoded, maxlen=max_len)"
   ]
  },
  {
   "cell_type": "code",
   "execution_count": 10,
   "metadata": {},
   "outputs": [
    {
     "name": "stdout",
     "output_type": "stream",
     "text": [
      "Epoch 1/15\n",
      "\u001b[1m184/184\u001b[0m \u001b[32m━━━━━━━━━━━━━━━━━━━━\u001b[0m\u001b[37m\u001b[0m \u001b[1m0s\u001b[0m 45ms/step - accuracy: 0.5713 - loss: 0.6847\n",
      "Epoch 1: val_accuracy improved from -inf to 0.56531, saving model to best_model.keras\n",
      "\u001b[1m184/184\u001b[0m \u001b[32m━━━━━━━━━━━━━━━━━━━━\u001b[0m\u001b[37m\u001b[0m \u001b[1m16s\u001b[0m 54ms/step - accuracy: 0.5714 - loss: 0.6846 - val_accuracy: 0.5653 - val_loss: 0.6809\n",
      "Epoch 2/15\n",
      "\u001b[1m184/184\u001b[0m \u001b[32m━━━━━━━━━━━━━━━━━━━━\u001b[0m\u001b[37m\u001b[0m \u001b[1m0s\u001b[0m 43ms/step - accuracy: 0.6511 - loss: 0.6185\n",
      "Epoch 2: val_accuracy improved from 0.56531 to 0.58027, saving model to best_model.keras\n",
      "\u001b[1m184/184\u001b[0m \u001b[32m━━━━━━━━━━━━━━━━━━━━\u001b[0m\u001b[37m\u001b[0m \u001b[1m9s\u001b[0m 48ms/step - accuracy: 0.6512 - loss: 0.6184 - val_accuracy: 0.5803 - val_loss: 0.7182\n",
      "Epoch 3/15\n",
      "\u001b[1m184/184\u001b[0m \u001b[32m━━━━━━━━━━━━━━━━━━━━\u001b[0m\u001b[37m\u001b[0m \u001b[1m0s\u001b[0m 44ms/step - accuracy: 0.8050 - loss: 0.4239\n",
      "Epoch 3: val_accuracy did not improve from 0.58027\n",
      "\u001b[1m184/184\u001b[0m \u001b[32m━━━━━━━━━━━━━━━━━━━━\u001b[0m\u001b[37m\u001b[0m \u001b[1m9s\u001b[0m 49ms/step - accuracy: 0.8049 - loss: 0.4240 - val_accuracy: 0.5639 - val_loss: 0.8112\n",
      "Epoch 4/15\n",
      "\u001b[1m184/184\u001b[0m \u001b[32m━━━━━━━━━━━━━━━━━━━━\u001b[0m\u001b[37m\u001b[0m \u001b[1m0s\u001b[0m 43ms/step - accuracy: 0.8851 - loss: 0.2905\n",
      "Epoch 4: val_accuracy did not improve from 0.58027\n",
      "\u001b[1m184/184\u001b[0m \u001b[32m━━━━━━━━━━━━━━━━━━━━\u001b[0m\u001b[37m\u001b[0m \u001b[1m9s\u001b[0m 47ms/step - accuracy: 0.8850 - loss: 0.2906 - val_accuracy: 0.5544 - val_loss: 0.9543\n",
      "Epoch 5/15\n",
      "\u001b[1m184/184\u001b[0m \u001b[32m━━━━━━━━━━━━━━━━━━━━\u001b[0m\u001b[37m\u001b[0m \u001b[1m0s\u001b[0m 45ms/step - accuracy: 0.9229 - loss: 0.2090\n",
      "Epoch 5: val_accuracy did not improve from 0.58027\n",
      "\u001b[1m184/184\u001b[0m \u001b[32m━━━━━━━━━━━━━━━━━━━━\u001b[0m\u001b[37m\u001b[0m \u001b[1m9s\u001b[0m 51ms/step - accuracy: 0.9228 - loss: 0.2090 - val_accuracy: 0.5673 - val_loss: 1.2235\n",
      "Epoch 5: early stopping\n"
     ]
    }
   ],
   "source": [
    "# 하이퍼파라미터 설정\n",
    "embedding_dim = 64  # 임베딩 벡터의 차원\n",
    "hidden_units = 64   # LSTM 레이어의 은닉 유닛 수\n",
    "num_classes = 1     # 출력 클래스의 수 (이진 분류인 경우 1)\n",
    "\n",
    "# 모델 구성\n",
    "model = Sequential()\n",
    "# 임베딩 레이어: vocab_size의 단어들을 embedding_dim 차원의 벡터로 변환\n",
    "model.add(Embedding(vocab_size, embedding_dim))\n",
    "# Bidirectional LSTM 레이어: 양방향 LSTM을 사용하여 입력 시퀀스를 처리\n",
    "model.add(Bidirectional(LSTM(embedding_dim)))\n",
    "# Dense 레이어: 출력 클래스의 수에 따라 결과를 softmax 활성화 함수로 출력\n",
    "model.add(Dense(num_classes, activation='sigmoid'))  # 이진 분류에서는 sigmoid 사용\n",
    "\n",
    "# 콜백 정의\n",
    "# 조기 종료: 검증 손실이 감소하지 않으면 학습을 조기에 종료\n",
    "es = EarlyStopping(monitor='val_loss', mode='min', verbose=1, patience=4)\n",
    "# 모델 체크포인트: 검증 정확도가 가장 높은 모델을 저장\n",
    "mc = ModelCheckpoint('best_model.keras', monitor='val_accuracy', mode='max', verbose=1, save_best_only=True)\n",
    "\n",
    "# 모델 컴파일\n",
    "# 손실 함수: 이진 분류이므로 binary_crossentropy 사용\n",
    "# 옵티마이저: Adam 옵티마이저 사용\n",
    "# 평가 메트릭: 정확도(acc) 사용\n",
    "model.compile(loss='binary_crossentropy', optimizer='adam', metrics=['accuracy'])\n",
    "\n",
    "# 모델 학습\n",
    "history = model.fit(X_train_encoded, y_train, epochs=15, callbacks=[es, mc], batch_size=32, validation_split=0.2)"
   ]
  },
  {
   "cell_type": "code",
   "execution_count": 11,
   "metadata": {},
   "outputs": [
    {
     "name": "stdout",
     "output_type": "stream",
     "text": [
      "\u001b[1m58/58\u001b[0m \u001b[32m━━━━━━━━━━━━━━━━━━━━\u001b[0m\u001b[37m\u001b[0m \u001b[1m2s\u001b[0m 19ms/step - accuracy: 0.5620 - loss: 0.7282\n",
      "\n",
      " 테스트 정확도: 0.5713\n"
     ]
    }
   ],
   "source": [
    "# 저장된 최적의 모델 로드\n",
    "loaded_model = load_model('best_model.keras')\n",
    "\n",
    "# 테스트 데이터로 모델 평가\n",
    "# evaluate 함수는 손실과 메트릭(여기서는 정확도)을 반환\n",
    "test_loss, test_acc = loaded_model.evaluate(X_test_encoded, y_test)\n",
    "\n",
    "# 테스트 정확도 출력\n",
    "print(\"\\n 테스트 정확도: %.4f\" % test_acc) "
   ]
  },
  {
   "cell_type": "markdown",
   "metadata": {},
   "source": [
    "-----"
   ]
  },
  {
   "cell_type": "code",
   "execution_count": null,
   "metadata": {},
   "outputs": [],
   "source": []
  }
 ],
 "metadata": {
  "kernelspec": {
   "display_name": "base",
   "language": "python",
   "name": "python3"
  },
  "language_info": {
   "codemirror_mode": {
    "name": "ipython",
    "version": 3
   },
   "file_extension": ".py",
   "mimetype": "text/x-python",
   "name": "python",
   "nbconvert_exporter": "python",
   "pygments_lexer": "ipython3",
   "version": "3.11.7"
  }
 },
 "nbformat": 4,
 "nbformat_minor": 2
}
